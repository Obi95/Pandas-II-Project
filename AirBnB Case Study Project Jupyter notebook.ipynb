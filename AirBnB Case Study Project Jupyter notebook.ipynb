{
 "cells": [
  {
   "cell_type": "markdown",
   "metadata": {},
   "source": [
    "# AirBnB NY Locations Data Case Study\n",
    "\n",
    "In this final project, you task will be to take the data provided and find evidance to answer the following questions.\n",
    "\n",
    "1. Which hosts are the busiest and why?\n",
    "2. How many neighborhood groups are available and which shows up the most?\n",
    "3. Are private rooms the most popular in manhattan?\n",
    "4. Which hosts are the busiest and based on their reviews?\n",
    "5. Which neighorhood group has the highest average price?\n",
    "6. Which neighborhood group has the highest total price?\n",
    "7. Which top 5 hosts have the highest total price?\n",
    "8. Who currently has no (zero) availability with a review count of 100 or more?\n",
    "9. What host has the highest total of prices and where are they located?\n",
    "10. When did Danielle from Queens last receive a review?\n",
    "\n",
    "You will be given **4 hours** to complete this assignment. \n",
    "**Be Advised** I will go dark for this intire assignment time period. That said, any questions that you would like to ask about the data, or the project **MUST** be asked before the time starts. Once the time has started, I can no longer give information.\n",
    "\n",
    "This is to similate what you will face when you are out in the wild. \n",
    "\n",
    "Happy Coding!"
   ]
  },
  {
   "cell_type": "code",
   "execution_count": 1,
   "metadata": {},
   "outputs": [],
   "source": [
    "import numpy as np\n",
    "import pandas as pd\n",
    "import matplotlib.pyplot as plt"
   ]
  },
  {
   "cell_type": "code",
   "execution_count": 2,
   "metadata": {},
   "outputs": [
    {
     "data": {
      "text/html": [
       "<div>\n",
       "<style scoped>\n",
       "    .dataframe tbody tr th:only-of-type {\n",
       "        vertical-align: middle;\n",
       "    }\n",
       "\n",
       "    .dataframe tbody tr th {\n",
       "        vertical-align: top;\n",
       "    }\n",
       "\n",
       "    .dataframe thead th {\n",
       "        text-align: right;\n",
       "    }\n",
       "</style>\n",
       "<table border=\"1\" class=\"dataframe\">\n",
       "  <thead>\n",
       "    <tr style=\"text-align: right;\">\n",
       "      <th></th>\n",
       "      <th>id</th>\n",
       "      <th>name</th>\n",
       "      <th>host_id</th>\n",
       "      <th>host_name</th>\n",
       "      <th>neighbourhood_group</th>\n",
       "      <th>neighbourhood</th>\n",
       "      <th>latitude</th>\n",
       "      <th>longitude</th>\n",
       "      <th>room_type</th>\n",
       "      <th>price</th>\n",
       "      <th>minimum_nights</th>\n",
       "      <th>number_of_reviews</th>\n",
       "      <th>last_review</th>\n",
       "      <th>reviews_per_month</th>\n",
       "      <th>calculated_host_listings_count</th>\n",
       "      <th>availability_365</th>\n",
       "    </tr>\n",
       "  </thead>\n",
       "  <tbody>\n",
       "    <tr>\n",
       "      <th>0</th>\n",
       "      <td>2539</td>\n",
       "      <td>Clean &amp; quiet apt home by the park</td>\n",
       "      <td>2787</td>\n",
       "      <td>John</td>\n",
       "      <td>Brooklyn</td>\n",
       "      <td>Kensington</td>\n",
       "      <td>40.64749</td>\n",
       "      <td>-73.97237</td>\n",
       "      <td>Private room</td>\n",
       "      <td>149</td>\n",
       "      <td>1</td>\n",
       "      <td>9</td>\n",
       "      <td>2018-10-19</td>\n",
       "      <td>0.21</td>\n",
       "      <td>6</td>\n",
       "      <td>365</td>\n",
       "    </tr>\n",
       "    <tr>\n",
       "      <th>1</th>\n",
       "      <td>2595</td>\n",
       "      <td>Skylit Midtown Castle</td>\n",
       "      <td>2845</td>\n",
       "      <td>Jennifer</td>\n",
       "      <td>Manhattan</td>\n",
       "      <td>Midtown</td>\n",
       "      <td>40.75362</td>\n",
       "      <td>-73.98377</td>\n",
       "      <td>Entire home/apt</td>\n",
       "      <td>225</td>\n",
       "      <td>1</td>\n",
       "      <td>45</td>\n",
       "      <td>2019-05-21</td>\n",
       "      <td>0.38</td>\n",
       "      <td>2</td>\n",
       "      <td>355</td>\n",
       "    </tr>\n",
       "    <tr>\n",
       "      <th>2</th>\n",
       "      <td>3647</td>\n",
       "      <td>THE VILLAGE OF HARLEM....NEW YORK !</td>\n",
       "      <td>4632</td>\n",
       "      <td>Elisabeth</td>\n",
       "      <td>Manhattan</td>\n",
       "      <td>Harlem</td>\n",
       "      <td>40.80902</td>\n",
       "      <td>-73.94190</td>\n",
       "      <td>Private room</td>\n",
       "      <td>150</td>\n",
       "      <td>3</td>\n",
       "      <td>0</td>\n",
       "      <td>NaN</td>\n",
       "      <td>NaN</td>\n",
       "      <td>1</td>\n",
       "      <td>365</td>\n",
       "    </tr>\n",
       "    <tr>\n",
       "      <th>3</th>\n",
       "      <td>3831</td>\n",
       "      <td>Cozy Entire Floor of Brownstone</td>\n",
       "      <td>4869</td>\n",
       "      <td>LisaRoxanne</td>\n",
       "      <td>Brooklyn</td>\n",
       "      <td>Clinton Hill</td>\n",
       "      <td>40.68514</td>\n",
       "      <td>-73.95976</td>\n",
       "      <td>Entire home/apt</td>\n",
       "      <td>89</td>\n",
       "      <td>1</td>\n",
       "      <td>270</td>\n",
       "      <td>2019-07-05</td>\n",
       "      <td>4.64</td>\n",
       "      <td>1</td>\n",
       "      <td>194</td>\n",
       "    </tr>\n",
       "    <tr>\n",
       "      <th>4</th>\n",
       "      <td>5022</td>\n",
       "      <td>Entire Apt: Spacious Studio/Loft by central park</td>\n",
       "      <td>7192</td>\n",
       "      <td>Laura</td>\n",
       "      <td>Manhattan</td>\n",
       "      <td>East Harlem</td>\n",
       "      <td>40.79851</td>\n",
       "      <td>-73.94399</td>\n",
       "      <td>Entire home/apt</td>\n",
       "      <td>80</td>\n",
       "      <td>10</td>\n",
       "      <td>9</td>\n",
       "      <td>2018-11-19</td>\n",
       "      <td>0.10</td>\n",
       "      <td>1</td>\n",
       "      <td>0</td>\n",
       "    </tr>\n",
       "  </tbody>\n",
       "</table>\n",
       "</div>"
      ],
      "text/plain": [
       "     id                                              name  host_id  \\\n",
       "0  2539                Clean & quiet apt home by the park     2787   \n",
       "1  2595                             Skylit Midtown Castle     2845   \n",
       "2  3647               THE VILLAGE OF HARLEM....NEW YORK !     4632   \n",
       "3  3831                   Cozy Entire Floor of Brownstone     4869   \n",
       "4  5022  Entire Apt: Spacious Studio/Loft by central park     7192   \n",
       "\n",
       "     host_name neighbourhood_group neighbourhood  latitude  longitude  \\\n",
       "0         John            Brooklyn    Kensington  40.64749  -73.97237   \n",
       "1     Jennifer           Manhattan       Midtown  40.75362  -73.98377   \n",
       "2    Elisabeth           Manhattan        Harlem  40.80902  -73.94190   \n",
       "3  LisaRoxanne            Brooklyn  Clinton Hill  40.68514  -73.95976   \n",
       "4        Laura           Manhattan   East Harlem  40.79851  -73.94399   \n",
       "\n",
       "         room_type  price  minimum_nights  number_of_reviews last_review  \\\n",
       "0     Private room    149               1                  9  2018-10-19   \n",
       "1  Entire home/apt    225               1                 45  2019-05-21   \n",
       "2     Private room    150               3                  0         NaN   \n",
       "3  Entire home/apt     89               1                270  2019-07-05   \n",
       "4  Entire home/apt     80              10                  9  2018-11-19   \n",
       "\n",
       "   reviews_per_month  calculated_host_listings_count  availability_365  \n",
       "0               0.21                               6               365  \n",
       "1               0.38                               2               355  \n",
       "2                NaN                               1               365  \n",
       "3               4.64                               1               194  \n",
       "4               0.10                               1                 0  "
      ]
     },
     "execution_count": 2,
     "metadata": {},
     "output_type": "execute_result"
    }
   ],
   "source": [
    "air_bnb = pd.read_csv('AB_NYC_2019 - AB_NYC_2019.csv')\n",
    "air_bnb.head()"
   ]
  },
  {
   "cell_type": "code",
   "execution_count": 3,
   "metadata": {},
   "outputs": [
    {
     "name": "stdout",
     "output_type": "stream",
     "text": [
      "First three busiest hosts:\n",
      "          number_of_reviews  reviews_per_month\n",
      "host_id                                       \n",
      "37312959               2273          10.706000\n",
      "344035                 2205           4.307692\n",
      "26432133               2017          13.604000\n"
     ]
    }
   ],
   "source": [
    "# Which hosts are the busiest and why?\n",
    "\n",
    "import pandas as pd\n",
    "\n",
    "df = pd.read_csv(\"AB_NYC_2019 - AB_NYC_2019.csv\")\n",
    "\n",
    "host_reviews = df.groupby('host_id').agg({'number_of_reviews': 'sum', 'reviews_per_month': 'mean'})\n",
    "busiest_hosts = host_reviews.sort_values(by=['number_of_reviews', 'reviews_per_month'], ascending=False).head(3)\n",
    "\n",
    "print(\"First three busiest hosts:\")\n",
    "print(busiest_hosts)\n",
    "\n",
    "# Customer Id \"37312959\" is the busiest. We can conclude this by calculating the monthly reviews by the total of reviews\n",
    "# By having the total of reviews and the monthly mean we can find out how many people stays at the Hosts' property, if we assume every Renter leaves a review\n",
    "# We display the three busiest hosts starting from the busiest. \n",
    "\n"
   ]
  },
  {
   "cell_type": "code",
   "execution_count": 7,
   "metadata": {},
   "outputs": [
    {
     "name": "stdout",
     "output_type": "stream",
     "text": [
      "Number neighborhoods: 5\n",
      "Neighborhood group with most ocurrances: Manhattan\n",
      "Properties located at this group: 21661\n"
     ]
    }
   ],
   "source": [
    "#How many neighborhood groups are available and which shows up the most?\n",
    "\n",
    "import pandas as pd\n",
    "\n",
    "df = pd.read_csv(\"AB_NYC_2019 - AB_NYC_2019.csv\")\n",
    "\n",
    "neighborhood_groups = df['neighbourhood_group'].unique()\n",
    "\n",
    "num_groups = len(neighborhood_groups)\n",
    "print(\"Number neighborhoods:\", num_groups)\n",
    "group_counts = df['neighbourhood_group'].value_counts()\n",
    "\n",
    "most_common_group = group_counts.idxmax()\n",
    "print(\"Neighborhood group with most ocurrances:\", most_common_group)\n",
    "print(\"Properties located at this group:\", group_counts.max())\n",
    "\n",
    "# By returning the Unique values of \"neighborhood_group\" we can see the total ammount of groups\n",
    "# We can calculate the total ammount of ocurrances and then use idmax() to see what group name has the highest amount\n",
    "\n"
   ]
  },
  {
   "cell_type": "code",
   "execution_count": 8,
   "metadata": {},
   "outputs": [
    {
     "name": "stdout",
     "output_type": "stream",
     "text": [
      "Most popular type of room/listing in Manhattan is: Entire home/apt\n"
     ]
    }
   ],
   "source": [
    "# Are private rooms the most popular in manhattan?\n",
    "\n",
    "import pandas as pd\n",
    "\n",
    "df = pd.read_csv(\"AB_NYC_2019 - AB_NYC_2019.csv\")\n",
    "\n",
    "manhattan_listings = df[df['neighbourhood_group'] == 'Manhattan']\n",
    "room_type_counts = manhattan_listings['room_type'].value_counts()\n",
    "most_popular_room_type = room_type_counts.idxmax()\n",
    "\n",
    "print(\"Most popular type of room/listing in Manhattan is:\", most_popular_room_type)\n",
    "\n",
    "# Similar to our \"query\" from previous question\n",
    "# We can find out information about most popular type of room by showing the total amount of type of rooms in Manhattan\n",
    "# Then we can return the maximum number of ocurrances for each type of room\n",
    "# That is how we can find out if \"Private rooms\" are the most popular rooms which in this case it is False, The most \n",
    "# Popular type are \"Entire Home/Apts\"\n"
   ]
  },
  {
   "cell_type": "code",
   "execution_count": 12,
   "metadata": {},
   "outputs": [
    {
     "name": "stdout",
     "output_type": "stream",
     "text": [
      "Neighborhood group with the highest average price: Manhattan\n",
      "Highest average price: 196.88\n"
     ]
    }
   ],
   "source": [
    "#Which neighorhood group has the highest average price?\n",
    "import pandas as pd\n",
    "\n",
    "avg_price_neighborhood = df.groupby('neighbourhood_group')['price'].mean()\n",
    "highest_avg_price_neighborhood = avg_price_neighborhood.idxmax()\n",
    "highest_avg_price = avg_price_neighborhood.max()\n",
    "\n",
    "print(\"Neighborhood group with the highest average price:\", highest_avg_price_neighborhood)\n",
    "print(\"Highest average price:\", round(highest_avg_price, 2))\n",
    "\n",
    "# We get the mean for each in the column \"neighborhood_group\" \n",
    "# then we use idmax to return the neighborhood group with the highest average price\n",
    "# Use max() to directly get the highest average price"
   ]
  },
  {
   "cell_type": "code",
   "execution_count": 16,
   "metadata": {},
   "outputs": [
    {
     "name": "stdout",
     "output_type": "stream",
     "text": [
      "Neighborhood with highest total price Manhattan\n"
     ]
    }
   ],
   "source": [
    "# Which neighbor hood group has the highest total price?\n",
    "import pandas as pd\n",
    "\n",
    "highest_total_price_neighborhood = df.groupby('neighbourhood_group')['price'].sum().idxmax()\n",
    "highest_total_price = df.groupby('neighbourhood_group')['price'].sum().max()\n",
    "\n",
    "print(\"Neighborhood with highest total price:\", highest_total_price_neighborhood)\n"
   ]
  },
  {
   "cell_type": "code",
   "execution_count": 19,
   "metadata": {},
   "outputs": [
    {
     "name": "stdout",
     "output_type": "stream",
     "text": [
      "Top 5 hosts with the highest total price:\n",
      "host_id\n",
      "219517861    82795\n",
      "107434423    70331\n",
      "156158778    37097\n",
      "205031545    35294\n"
     ]
    }
   ],
   "source": [
    "#Which top 5 hosts have the highest total price?\n",
    "import pandas as pd\n",
    "\n",
    "top_hosts_total_price = df.groupby('host_id')['price'].sum().sort_values(ascending=False).head(5)\n",
    "\n",
    "top_hosts_total_price_str = str(top_hosts_total_price)\n",
    "top_hosts_total_price_str = top_hosts_total_price_str.split('\\n')[0:5]\n",
    "\n",
    "print(\"Top 5 hosts with the highest total price:\")\n",
    "for line in top_hosts_total_price_str:\n",
    "    print(line)\n",
    "\n"
   ]
  },
  {
   "cell_type": "code",
   "execution_count": 25,
   "metadata": {},
   "outputs": [
    {
     "name": "stdout",
     "output_type": "stream",
     "text": [
      "Hosts zero availability and reviews of 100 or higher:\n",
      "         host_id   host_name  availability_365  number_of_reviews\n",
      "8           7490   MaryEllen                 0                118\n",
      "94         79402  Christiana                 0                168\n",
      "132       129352         Sol                 0                193\n",
      "174       193722       Coral                 0                114\n",
      "180        67778        Doug                 0                206\n",
      "...          ...         ...               ...                ...\n",
      "29581  127740507    Kathleen                 0                103\n",
      "30461  176185168       Janet                 0                119\n",
      "31250   21074914      Albert                 0                102\n",
      "32670   40119874    Stephany                 0                131\n",
      "35014  209549523     Mariluz                 0                112\n",
      "\n",
      "[162 rows x 4 columns]\n"
     ]
    }
   ],
   "source": [
    "# Who currently has no (zero) availability with a review count of 100 or more?\n",
    "\n",
    "import pandas as pd\n",
    "\n",
    "df['availability_365'] = pd.to_numeric(df['availability_365'], errors='coerce')\n",
    "df['number_of_reviews'] = pd.to_numeric(df['number_of_reviews'], errors='coerce')\n",
    "\n",
    "hosts_zero_availability = df[(df['availability_365'] == 0) & (df['number_of_reviews'] >= 100)]\n",
    "\n",
    "print(\"Hosts zero availability and reviews of 100 or higher:\")\n",
    "print(hosts_zero_availability[['host_id', 'host_name', 'availability_365', 'number_of_reviews']])\n"
   ]
  },
  {
   "cell_type": "code",
   "execution_count": 23,
   "metadata": {},
   "outputs": [
    {
     "name": "stdout",
     "output_type": "stream",
     "text": [
      "Host with the highest total price is located in: Manhattan\n",
      "Their host ID: 219517861\n",
      "Highest total price: 82795\n"
     ]
    }
   ],
   "source": [
    "# What host has the highest total of prices and where are they located?\n",
    "\n",
    "import pandas as pd\n",
    "\n",
    "df['price'] = pd.to_numeric(df['price'], errors='coerce')\n",
    "hosts_total_price = df.groupby('host_id')['price'].sum()\n",
    "\n",
    "host_with_highest_total_price = hosts_total_price.idxmax()\n",
    "highest_total_price = hosts_total_price.max()\n",
    "\n",
    "location_of_host = df.loc[df['host_id'] == host_with_highest_total_price, 'neighbourhood_group'].iloc[0]\n",
    "\n",
    "print(\"Host with the highest total price is located in:\", location_of_host)\n",
    "print(\"Their host ID:\", host_with_highest_total_price)\n",
    "print(\"Highest total price:\", highest_total_price)\n",
    "\n",
    "# Convert 'price' column to numeric type\n",
    "# Add and sum the prices for each listing after grouping them. \n",
    "# Find the location of the host with highest total price, which in this case is \"Manhattan\"\n"
   ]
  },
  {
   "cell_type": "code",
   "execution_count": 22,
   "metadata": {},
   "outputs": [
    {
     "name": "stdout",
     "output_type": "stream",
     "text": [
      "Last review date for Danielle from Queens: 2019-07-08 00:00:00\n"
     ]
    }
   ],
   "source": [
    "# When did Danielle from Queens last receive a review?\n",
    "import pandas as pd\n",
    "\n",
    "df['last_review'] = pd.to_datetime(df['last_review'])\n",
    "\n",
    "# Filter the DataFrame for Danielle from Queens\n",
    "danielle_queens_df = df[(df['host_name'] == 'Danielle') & (df['neighbourhood_group'] == 'Queens')]\n",
    "\n",
    "# Get the maximum date from the filtered DataFrame\n",
    "last_review_danielle_queens = danielle_queens_df['last_review'].max()\n",
    "\n",
    "print(\"Last review date for Danielle from Queens:\", last_review_danielle_queens)\n",
    "\n",
    "# In this code we created a DataFrame, we need to specify that we need our 'last_review' numbers to be read as a \n",
    "# Date Format instead of just Integers\n",
    "# Using the function .max() we can return the highest review date which would be the last one made."
   ]
  },
  {
   "cell_type": "markdown",
   "metadata": {},
   "source": [
    "## Further Questions\n",
    "\n",
    "1. Which host has the most listings?"
   ]
  },
  {
   "cell_type": "code",
   "execution_count": 27,
   "metadata": {},
   "outputs": [
    {
     "name": "stdout",
     "output_type": "stream",
     "text": [
      "Host with the most listings is: 219517861\n",
      "Number of listings: 327\n"
     ]
    }
   ],
   "source": [
    "import pandas as pd\n",
    "\n",
    "hosts_listings_count = df.groupby('host_id')['id'].nunique()\n",
    "\n",
    "host_with_most_listings = hosts_listings_count.idxmax()\n",
    "most_listings_count = hosts_listings_count.max()\n",
    "\n",
    "print(\"Host with the most listings is:\", host_with_most_listings)\n",
    "print(\"Number of listings:\", most_listings_count)\n",
    "\n",
    "#Customer '219517861' appears at least 327 times in our data, so We know they have $327 properties"
   ]
  },
  {
   "cell_type": "markdown",
   "metadata": {},
   "source": [
    "2. How many listings have completely open availability?"
   ]
  },
  {
   "cell_type": "code",
   "execution_count": 26,
   "metadata": {},
   "outputs": [
    {
     "name": "stdout",
     "output_type": "stream",
     "text": [
      "Number of listings with completely open availability: 1295\n"
     ]
    }
   ],
   "source": [
    "import pandas as pd\n",
    "\n",
    "df['availability_365'] = pd.to_numeric(df['availability_365'], errors='coerce')\n",
    "open_availability_listings = df[df['availability_365'] == 365]\n",
    "num_open_availability_listings = open_availability_listings.shape[0]\n",
    "print(\"Number of listings with completely open availability:\", num_open_availability_listings)\n",
    "\n",
    "# Grouping and adding the total amount of listing with open availability\n",
    "\n"
   ]
  },
  {
   "cell_type": "markdown",
   "metadata": {},
   "source": [
    "3. What room_types have the highest review numbers?"
   ]
  },
  {
   "cell_type": "code",
   "execution_count": 31,
   "metadata": {},
   "outputs": [
    {
     "name": "stdout",
     "output_type": "stream",
     "text": [
      "Room type with highest review number:\n",
      "room_type\n",
      "Entire home/apt    580403\n",
      "Name: number_of_reviews, dtype: int64\n"
     ]
    }
   ],
   "source": [
    "import pandas as pd\n",
    "\n",
    "room_types_review_count = df.groupby('room_type')['number_of_reviews'].sum()\n",
    "\n",
    "highest_review_room_types = room_types_review_count[room_types_review_count == room_types_review_count.max()]\n",
    "\n",
    "print(\"Room type with highest review number:\")\n",
    "print(highest_review_room_types)\n",
    "\n",
    "# Grouping our dataFrame and adding the sum to obtain a total then we can retrieve the maximum number of reviews\n",
    "# so We can know what property has the highest reviews. "
   ]
  },
  {
   "cell_type": "markdown",
   "metadata": {},
   "source": [
    "# Final Conclusion\n",
    "\n",
    "In this cell, write your final conclusion for each of the questions asked.\n",
    "\n",
    "Also, if you uncovered some more details that were not asked above, please discribe them here.\n",
    "\n",
    "-- Add your conclusion --"
   ]
  },
  {
   "cell_type": "code",
   "execution_count": null,
   "metadata": {},
   "outputs": [],
   "source": [
    "# Look for the comments at the bottom of each line!\n",
    "\n",
    "\n",
    "# Analyzing this Data I have learn the vary uses of \"groupby\" as well as how handy the functions \n",
    "# \".max()\", \".idmax(), \".unique()\" when using after grouping\n",
    "# these functions can be very helpful and facilitate our search through our data.\n",
    "# \n",
    "# I also realize how similar Pandas can be to a SQL query which could also be done by opening an analyzing Data\n",
    "# Using SQL. However, I believe for convenience and help performing complex calculations Pandas can be easier to \n",
    "# navigate through the Data with\n"
   ]
  }
 ],
 "metadata": {
  "kernelspec": {
   "display_name": "Python 3 (ipykernel)",
   "language": "python",
   "name": "python3"
  },
  "language_info": {
   "codemirror_mode": {
    "name": "ipython",
    "version": 3
   },
   "file_extension": ".py",
   "mimetype": "text/x-python",
   "name": "python",
   "nbconvert_exporter": "python",
   "pygments_lexer": "ipython3",
   "version": "3.11.7"
  }
 },
 "nbformat": 4,
 "nbformat_minor": 4
}
